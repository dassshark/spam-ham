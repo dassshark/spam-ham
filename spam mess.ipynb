{
 "cells": [
  {
   "cell_type": "code",
   "execution_count": 45,
   "id": "434a8941",
   "metadata": {},
   "outputs": [],
   "source": [
    "import pandas as pd\n",
    "import numpy as np\n",
    "import sklearn\n",
    "import itertools\n",
    "import nltk\n",
    "import re\n",
    "from nltk.corpus import stopwords\n",
    "from nltk.stem import WordNetLemmatizer\n",
    "from sklearn.preprocessing import StandardScaler\n",
    "from sklearn.linear_model import LogisticRegression\n",
    "from sklearn.model_selection import train_test_split\n",
    "from sklearn.feature_extraction.text import HashingVectorizer\n",
    "from sklearn.feature_extraction.text import CountVectorizer\n",
    "from sklearn.feature_extraction.text import TfidfVectorizer\n",
    "from sklearn.metrics import accuracy_score, precision_score, recall_score, roc_auc_score, roc_curve, f1_score, precision_recall_curve, classification_report, confusion_matrix"
   ]
  },
  {
   "cell_type": "code",
   "execution_count": 3,
   "id": "0defb1d1",
   "metadata": {},
   "outputs": [
    {
     "name": "stderr",
     "output_type": "stream",
     "text": [
      "[nltk_data] Downloading package stopwords to\n",
      "[nltk_data]     C:\\Users\\dassshark\\AppData\\Roaming\\nltk_data...\n",
      "[nltk_data]   Package stopwords is already up-to-date!\n",
      "[nltk_data] Downloading package punkt to\n",
      "[nltk_data]     C:\\Users\\dassshark\\AppData\\Roaming\\nltk_data...\n",
      "[nltk_data]   Package punkt is already up-to-date!\n",
      "[nltk_data] Downloading package wordnet to\n",
      "[nltk_data]     C:\\Users\\dassshark\\AppData\\Roaming\\nltk_data...\n",
      "[nltk_data]   Package wordnet is already up-to-date!\n"
     ]
    },
    {
     "data": {
      "text/plain": [
       "True"
      ]
     },
     "execution_count": 3,
     "metadata": {},
     "output_type": "execute_result"
    }
   ],
   "source": [
    "nltk.download('stopwords')\n",
    "nltk.download('punkt')\n",
    "nltk.download('wordnet')"
   ]
  },
  {
   "cell_type": "code",
   "execution_count": 4,
   "id": "433a26ee",
   "metadata": {},
   "outputs": [],
   "source": [
    "df = pd.read_csv('data.csv')"
   ]
  },
  {
   "cell_type": "code",
   "execution_count": 5,
   "id": "d07c6be7",
   "metadata": {},
   "outputs": [
    {
     "data": {
      "text/html": [
       "<div>\n",
       "<style scoped>\n",
       "    .dataframe tbody tr th:only-of-type {\n",
       "        vertical-align: middle;\n",
       "    }\n",
       "\n",
       "    .dataframe tbody tr th {\n",
       "        vertical-align: top;\n",
       "    }\n",
       "\n",
       "    .dataframe thead th {\n",
       "        text-align: right;\n",
       "    }\n",
       "</style>\n",
       "<table border=\"1\" class=\"dataframe\">\n",
       "  <thead>\n",
       "    <tr style=\"text-align: right;\">\n",
       "      <th></th>\n",
       "      <th>Category</th>\n",
       "      <th>Message</th>\n",
       "    </tr>\n",
       "  </thead>\n",
       "  <tbody>\n",
       "    <tr>\n",
       "      <th>0</th>\n",
       "      <td>ham</td>\n",
       "      <td>Go until jurong point, crazy.. Available only ...</td>\n",
       "    </tr>\n",
       "    <tr>\n",
       "      <th>1</th>\n",
       "      <td>ham</td>\n",
       "      <td>Ok lar... Joking wif u oni...</td>\n",
       "    </tr>\n",
       "    <tr>\n",
       "      <th>2</th>\n",
       "      <td>spam</td>\n",
       "      <td>Free entry in 2 a wkly comp to win FA Cup fina...</td>\n",
       "    </tr>\n",
       "    <tr>\n",
       "      <th>3</th>\n",
       "      <td>ham</td>\n",
       "      <td>U dun say so early hor... U c already then say...</td>\n",
       "    </tr>\n",
       "    <tr>\n",
       "      <th>4</th>\n",
       "      <td>ham</td>\n",
       "      <td>Nah I don't think he goes to usf, he lives aro...</td>\n",
       "    </tr>\n",
       "  </tbody>\n",
       "</table>\n",
       "</div>"
      ],
      "text/plain": [
       "  Category                                            Message\n",
       "0      ham  Go until jurong point, crazy.. Available only ...\n",
       "1      ham                      Ok lar... Joking wif u oni...\n",
       "2     spam  Free entry in 2 a wkly comp to win FA Cup fina...\n",
       "3      ham  U dun say so early hor... U c already then say...\n",
       "4      ham  Nah I don't think he goes to usf, he lives aro..."
      ]
     },
     "execution_count": 5,
     "metadata": {},
     "output_type": "execute_result"
    }
   ],
   "source": [
    "df.head()"
   ]
  },
  {
   "cell_type": "code",
   "execution_count": 6,
   "id": "023f508a",
   "metadata": {},
   "outputs": [
    {
     "name": "stdout",
     "output_type": "stream",
     "text": [
      "<class 'pandas.core.frame.DataFrame'>\n",
      "RangeIndex: 5572 entries, 0 to 5571\n",
      "Data columns (total 2 columns):\n",
      " #   Column    Non-Null Count  Dtype \n",
      "---  ------    --------------  ----- \n",
      " 0   Category  5572 non-null   object\n",
      " 1   Message   5572 non-null   object\n",
      "dtypes: object(2)\n",
      "memory usage: 87.2+ KB\n"
     ]
    }
   ],
   "source": [
    "df.info('data.csv')"
   ]
  },
  {
   "cell_type": "code",
   "execution_count": 7,
   "id": "ddef9e35",
   "metadata": {},
   "outputs": [],
   "source": [
    "df[\"Category\"]= [1 if i == 'spam' else 0 for i in df['Category']]\n",
    "#df[\"Category\"] = np.where(df[\"Category\"].str.contains(\"spam\"), 1, 0)"
   ]
  },
  {
   "cell_type": "markdown",
   "id": "7aa19f3a",
   "metadata": {},
   "source": [
    "## Подготовка текста к обучению"
   ]
  },
  {
   "cell_type": "code",
   "execution_count": 8,
   "id": "47ed4614",
   "metadata": {
    "scrolled": true
   },
   "outputs": [],
   "source": [
    "lemmatizer = WordNetLemmatizer()\n",
    "rows = []\n",
    "for row in df['Message']:\n",
    "    row = re.sub(\"[^a-zA-Z]\",\" \",row)\n",
    "    row = row.lower()\n",
    "    row = nltk.word_tokenize(row)\n",
    "    row = [word for word in row if not word in stopwords.words(\"english\")]\n",
    "    row = ' '.join([lemmatizer.lemmatize(word) for word in row])\n",
    "    rows.append(row)"
   ]
  },
  {
   "cell_type": "code",
   "execution_count": 9,
   "id": "ddcba957",
   "metadata": {},
   "outputs": [],
   "source": [
    "target = df['Category']\n",
    "features = rows"
   ]
  },
  {
   "cell_type": "markdown",
   "id": "3df6a77a",
   "metadata": {},
   "source": [
    "## Разбивка на выборки и векторизация"
   ]
  },
  {
   "cell_type": "code",
   "execution_count": 10,
   "id": "9dc60421",
   "metadata": {},
   "outputs": [],
   "source": [
    "features_train, features_valid, target_train, target_valid = train_test_split(features, target, test_size=0.25, random_state=12345)\n",
    "features_valid, features_test, target_valid, target_test = train_test_split(features_valid, target_valid, test_size=0.5, random_state=12345)"
   ]
  },
  {
   "cell_type": "code",
   "execution_count": 15,
   "id": "f81a9344",
   "metadata": {},
   "outputs": [],
   "source": [
    "hv = HashingVectorizer(n_features = 256, norm = None)\n",
    "train_hv = hv.fit_transform(features_train).toarray()\n",
    "test_hv = hv.transform(features_test).toarray()\n",
    "valid_hv = hv.transform(features_valid).toarray()"
   ]
  },
  {
   "cell_type": "code",
   "execution_count": 25,
   "id": "7ec0df76",
   "metadata": {},
   "outputs": [],
   "source": [
    "cv = CountVectorizer()\n",
    "train_cv = cv.fit_transform(features_train).toarray()\n",
    "test_cv = cv.transform(features_test).toarray()\n",
    "valid_cv = cv.transform(features_valid).toarray()"
   ]
  },
  {
   "cell_type": "code",
   "execution_count": 60,
   "id": "6686c293",
   "metadata": {},
   "outputs": [],
   "source": [
    "tfidf_vect= TfidfVectorizer()"
   ]
  },
  {
   "cell_type": "markdown",
   "id": "a7f44d8a",
   "metadata": {},
   "source": [
    "## Логистическая регрессия и ее метрики"
   ]
  },
  {
   "cell_type": "code",
   "execution_count": 69,
   "id": "c919e153",
   "metadata": {},
   "outputs": [],
   "source": [
    "lgr = LogisticRegression(class_weight='balanced')\n",
    "lgr = lgr.fit(train_cv, target_train)\n",
    "pred = lgr.predict(valid_cv)"
   ]
  },
  {
   "cell_type": "code",
   "execution_count": 30,
   "id": "db4ae78d",
   "metadata": {},
   "outputs": [
    {
     "name": "stdout",
     "output_type": "stream",
     "text": [
      "0.9798850574712644 0.9340659340659341 0.9139784946236559 0.9239130434782609\n"
     ]
    }
   ],
   "source": [
    "print(accuracy_score(target_valid, pred),\n",
    "precision_score(target_valid, pred),\n",
    "recall_score(target_valid, pred),\n",
    "f1_score(target_valid, pred))"
   ]
  },
  {
   "cell_type": "code",
   "execution_count": 18,
   "id": "ffee8661",
   "metadata": {},
   "outputs": [
    {
     "name": "stdout",
     "output_type": "stream",
     "text": [
      "0.9281609195402298 0.6747967479674797 0.8924731182795699 0.7685185185185185\n"
     ]
    }
   ],
   "source": [
    "print(accuracy_score(target_valid, pred),\n",
    "precision_score(target_valid, pred),\n",
    "recall_score(target_valid, pred),\n",
    "f1_score(target_valid, pred))"
   ]
  },
  {
   "cell_type": "code",
   "execution_count": 21,
   "id": "199862a9",
   "metadata": {},
   "outputs": [
    {
     "name": "stdout",
     "output_type": "stream",
     "text": [
      "              precision    recall  f1-score   support\n",
      "\n",
      " Non-churned       0.98      0.93      0.96       603\n",
      "     Churned       0.67      0.89      0.77        93\n",
      "\n",
      "    accuracy                           0.93       696\n",
      "   macro avg       0.83      0.91      0.86       696\n",
      "weighted avg       0.94      0.93      0.93       696\n",
      "\n"
     ]
    }
   ],
   "source": [
    "report = classification_report(target_valid, lgr.predict(valid_hv), target_names=['Non-churned', 'Churned'])\n",
    "print(report)"
   ]
  },
  {
   "cell_type": "markdown",
   "id": "61abe853",
   "metadata": {},
   "source": [
    "## Проверка сообщения"
   ]
  },
  {
   "cell_type": "code",
   "execution_count": 67,
   "id": "1e62d797",
   "metadata": {},
   "outputs": [],
   "source": [
    "def check_message(mess: str, model):\n",
    "    if model.predict(tfidf_vect.transform([mess])) == 0:\n",
    "        return False\n",
    "    else:\n",
    "        return True"
   ]
  }
 ],
 "metadata": {
  "kernelspec": {
   "display_name": "Python 3 (ipykernel)",
   "language": "python",
   "name": "python3"
  },
  "language_info": {
   "codemirror_mode": {
    "name": "ipython",
    "version": 3
   },
   "file_extension": ".py",
   "mimetype": "text/x-python",
   "name": "python",
   "nbconvert_exporter": "python",
   "pygments_lexer": "ipython3",
   "version": "3.9.7"
  }
 },
 "nbformat": 4,
 "nbformat_minor": 5
}
